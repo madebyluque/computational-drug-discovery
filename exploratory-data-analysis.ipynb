{
 "cells": [
  {
   "cell_type": "markdown",
   "id": "54f65d1e-aa96-44cb-bfdb-ddfc636926ca",
   "metadata": {},
   "source": [
    "# Exploratory data analysis"
   ]
  },
  {
   "cell_type": "code",
   "execution_count": 138,
   "id": "2f4e26de-2a36-45fe-9ca6-05d5055f7649",
   "metadata": {},
   "outputs": [
    {
     "name": "stdout",
     "output_type": "stream",
     "text": [
      "Requirement already satisfied: rdkit in /home/cephalopodluke/miniconda/lib/python3.12/site-packages (2024.9.5)\n",
      "Requirement already satisfied: pandas in /home/cephalopodluke/miniconda/lib/python3.12/site-packages (2.2.3)\n",
      "Requirement already satisfied: seaborn in /home/cephalopodluke/miniconda/lib/python3.12/site-packages (0.13.2)\n",
      "Collecting scipy\n",
      "  Downloading scipy-1.15.1-cp312-cp312-manylinux_2_17_x86_64.manylinux2014_x86_64.whl.metadata (61 kB)\n",
      "Requirement already satisfied: numpy in /home/cephalopodluke/miniconda/lib/python3.12/site-packages (from rdkit) (2.2.2)\n",
      "Requirement already satisfied: Pillow in /home/cephalopodluke/miniconda/lib/python3.12/site-packages (from rdkit) (11.1.0)\n",
      "Requirement already satisfied: python-dateutil>=2.8.2 in /home/cephalopodluke/miniconda/lib/python3.12/site-packages (from pandas) (2.9.0.post0)\n",
      "Requirement already satisfied: pytz>=2020.1 in /home/cephalopodluke/miniconda/lib/python3.12/site-packages (from pandas) (2025.1)\n",
      "Requirement already satisfied: tzdata>=2022.7 in /home/cephalopodluke/miniconda/lib/python3.12/site-packages (from pandas) (2025.1)\n",
      "Requirement already satisfied: matplotlib!=3.6.1,>=3.4 in /home/cephalopodluke/miniconda/lib/python3.12/site-packages (from seaborn) (3.10.0)\n",
      "Requirement already satisfied: contourpy>=1.0.1 in /home/cephalopodluke/miniconda/lib/python3.12/site-packages (from matplotlib!=3.6.1,>=3.4->seaborn) (1.3.1)\n",
      "Requirement already satisfied: cycler>=0.10 in /home/cephalopodluke/miniconda/lib/python3.12/site-packages (from matplotlib!=3.6.1,>=3.4->seaborn) (0.12.1)\n",
      "Requirement already satisfied: fonttools>=4.22.0 in /home/cephalopodluke/miniconda/lib/python3.12/site-packages (from matplotlib!=3.6.1,>=3.4->seaborn) (4.56.0)\n",
      "Requirement already satisfied: kiwisolver>=1.3.1 in /home/cephalopodluke/miniconda/lib/python3.12/site-packages (from matplotlib!=3.6.1,>=3.4->seaborn) (1.4.8)\n",
      "Requirement already satisfied: packaging>=20.0 in /home/cephalopodluke/miniconda/lib/python3.12/site-packages (from matplotlib!=3.6.1,>=3.4->seaborn) (24.2)\n",
      "Requirement already satisfied: pyparsing>=2.3.1 in /home/cephalopodluke/miniconda/lib/python3.12/site-packages (from matplotlib!=3.6.1,>=3.4->seaborn) (3.2.1)\n",
      "Requirement already satisfied: six>=1.5 in /home/cephalopodluke/miniconda/lib/python3.12/site-packages (from python-dateutil>=2.8.2->pandas) (1.17.0)\n",
      "Downloading scipy-1.15.1-cp312-cp312-manylinux_2_17_x86_64.manylinux2014_x86_64.whl (40.2 MB)\n",
      "\u001b[2K   \u001b[90m━━━━━━━━━━━━━━━━━━━━━━━━━━━━━━━━━━━━━━━━\u001b[0m \u001b[32m40.2/40.2 MB\u001b[0m \u001b[31m13.8 MB/s\u001b[0m eta \u001b[36m0:00:00\u001b[0ma \u001b[36m0:00:01\u001b[0m\n",
      "Installing collected packages: scipy\n",
      "Successfully installed scipy-1.15.1\n",
      "Note: you may need to restart the kernel to use updated packages.\n"
     ]
    }
   ],
   "source": [
    "pip install rdkit pandas seaborn scipy"
   ]
  },
  {
   "cell_type": "code",
   "execution_count": 87,
   "id": "a9c1ff0a-273d-4eaa-a174-2c4e5523ca04",
   "metadata": {},
   "outputs": [],
   "source": [
    "import pandas as pd"
   ]
  },
  {
   "cell_type": "code",
   "execution_count": 88,
   "id": "dcae6ca1-9a1a-4f96-b0c3-fbf8b38076e6",
   "metadata": {},
   "outputs": [
    {
     "data": {
      "text/html": [
       "<div>\n",
       "<style scoped>\n",
       "    .dataframe tbody tr th:only-of-type {\n",
       "        vertical-align: middle;\n",
       "    }\n",
       "\n",
       "    .dataframe tbody tr th {\n",
       "        vertical-align: top;\n",
       "    }\n",
       "\n",
       "    .dataframe thead th {\n",
       "        text-align: right;\n",
       "    }\n",
       "</style>\n",
       "<table border=\"1\" class=\"dataframe\">\n",
       "  <thead>\n",
       "    <tr style=\"text-align: right;\">\n",
       "      <th></th>\n",
       "      <th>molecule_chembl_id</th>\n",
       "      <th>canonical_smiles</th>\n",
       "      <th>standard_value</th>\n",
       "      <th>bioactivity_class</th>\n",
       "    </tr>\n",
       "  </thead>\n",
       "  <tbody>\n",
       "    <tr>\n",
       "      <th>0</th>\n",
       "      <td>CHEMBL187579</td>\n",
       "      <td>Cc1noc(C)c1CN1C(=O)C(=O)c2cc(C#N)ccc21</td>\n",
       "      <td>7200.0</td>\n",
       "      <td>intermediate</td>\n",
       "    </tr>\n",
       "    <tr>\n",
       "      <th>1</th>\n",
       "      <td>CHEMBL188487</td>\n",
       "      <td>O=C1C(=O)N(Cc2ccc(F)cc2Cl)c2ccc(I)cc21</td>\n",
       "      <td>9400.0</td>\n",
       "      <td>intermediate</td>\n",
       "    </tr>\n",
       "    <tr>\n",
       "      <th>2</th>\n",
       "      <td>CHEMBL185698</td>\n",
       "      <td>O=C1C(=O)N(CC2COc3ccccc3O2)c2ccc(I)cc21</td>\n",
       "      <td>13500.0</td>\n",
       "      <td>inactive</td>\n",
       "    </tr>\n",
       "    <tr>\n",
       "      <th>3</th>\n",
       "      <td>CHEMBL426082</td>\n",
       "      <td>O=C1C(=O)N(Cc2cc3ccccc3s2)c2ccccc21</td>\n",
       "      <td>13110.0</td>\n",
       "      <td>inactive</td>\n",
       "    </tr>\n",
       "    <tr>\n",
       "      <th>4</th>\n",
       "      <td>CHEMBL187717</td>\n",
       "      <td>O=C1C(=O)N(Cc2cc3ccccc3s2)c2c1cccc2[N+](=O)[O-]</td>\n",
       "      <td>2000.0</td>\n",
       "      <td>intermediate</td>\n",
       "    </tr>\n",
       "  </tbody>\n",
       "</table>\n",
       "</div>"
      ],
      "text/plain": [
       "  molecule_chembl_id                                 canonical_smiles  \\\n",
       "0       CHEMBL187579           Cc1noc(C)c1CN1C(=O)C(=O)c2cc(C#N)ccc21   \n",
       "1       CHEMBL188487           O=C1C(=O)N(Cc2ccc(F)cc2Cl)c2ccc(I)cc21   \n",
       "2       CHEMBL185698          O=C1C(=O)N(CC2COc3ccccc3O2)c2ccc(I)cc21   \n",
       "3       CHEMBL426082              O=C1C(=O)N(Cc2cc3ccccc3s2)c2ccccc21   \n",
       "4       CHEMBL187717  O=C1C(=O)N(Cc2cc3ccccc3s2)c2c1cccc2[N+](=O)[O-]   \n",
       "\n",
       "   standard_value bioactivity_class  \n",
       "0          7200.0      intermediate  \n",
       "1          9400.0      intermediate  \n",
       "2         13500.0          inactive  \n",
       "3         13110.0          inactive  \n",
       "4          2000.0      intermediate  "
      ]
     },
     "execution_count": 88,
     "metadata": {},
     "output_type": "execute_result"
    }
   ],
   "source": [
    "df = pd.read_csv('bioactivity_preprocecssed_data.csv')\n",
    "df.head()"
   ]
  },
  {
   "cell_type": "markdown",
   "id": "a46716a9-6dfb-4530-bcd7-2c29451548a8",
   "metadata": {},
   "source": [
    "## Calculate Lipinski descriptors\n",
    "\n",
    "Christopher Lipinski, a scientist at Pfizer, came up with a set of rule-of-thumb for evaluating the druglikeness of compounds. Such druglikeness is based on the Absorption, Distribution, Metabolism and Excretion (ADME) that is also known as the pharmacokinetic profile. Lipinski analyzed all orally active FDA-approved drugs in the formulation of what is to be known as the Rule-of-Five or Lipinski's Rule.\n",
    "\n",
    "The Lipinski's Rule stated the following:\n",
    "- Molecular weight < 500 Dalton\n",
    "- Octanol-water partition coefficient (LogP) < 5\n",
    "- Hydrogen bond donors < 5\n",
    "- Hydrogen bond acceptors < 10\n"
   ]
  },
  {
   "cell_type": "code",
   "execution_count": 89,
   "id": "023fb256-789e-4bb0-a2b5-0b4f4fcfb2ca",
   "metadata": {},
   "outputs": [],
   "source": [
    "import numpy as np\n",
    "from rdkit import Chem\n",
    "from rdkit.Chem import Descriptors, Lipinski"
   ]
  },
  {
   "cell_type": "markdown",
   "id": "3d9d16c2-31ca-417e-bbb1-d81a9714374e",
   "metadata": {},
   "source": [
    "### Calculate descriptors"
   ]
  },
  {
   "cell_type": "code",
   "execution_count": 90,
   "id": "00b7c1e8-28db-4d2f-a8bd-2f857c7282e2",
   "metadata": {},
   "outputs": [],
   "source": [
    "def lipinski(smiles, verbose=False):\n",
    "\n",
    "    moldata= []\n",
    "    for elem in smiles:\n",
    "        mol=Chem.MolFromSmiles(elem) \n",
    "        moldata.append(mol)\n",
    "       \n",
    "    baseData= np.arange(1,1)\n",
    "    i=0  \n",
    "    for mol in moldata:        \n",
    "       \n",
    "        desc_MolWt = Descriptors.MolWt(mol)\n",
    "        desc_MolLogP = Descriptors.MolLogP(mol)\n",
    "        desc_NumHDonors = Lipinski.NumHDonors(mol)\n",
    "        desc_NumHAcceptors = Lipinski.NumHAcceptors(mol)\n",
    "           \n",
    "        row = np.array([desc_MolWt,\n",
    "                        desc_MolLogP,\n",
    "                        desc_NumHDonors,\n",
    "                        desc_NumHAcceptors])   \n",
    "    \n",
    "        if(i==0):\n",
    "            baseData=row\n",
    "        else:\n",
    "            baseData=np.vstack([baseData, row])\n",
    "        i=i+1      \n",
    "    \n",
    "    columnNames=[\"MW\",\"LogP\",\"NumHDonors\",\"NumHAcceptors\"]   \n",
    "    descriptors = pd.DataFrame(data=baseData,columns=columnNames)\n",
    "    \n",
    "    return descriptors"
   ]
  },
  {
   "cell_type": "code",
   "execution_count": 91,
   "id": "4205bf3b-481e-4c6d-b91f-be09f90989ce",
   "metadata": {},
   "outputs": [
    {
     "data": {
      "text/html": [
       "<div>\n",
       "<style scoped>\n",
       "    .dataframe tbody tr th:only-of-type {\n",
       "        vertical-align: middle;\n",
       "    }\n",
       "\n",
       "    .dataframe tbody tr th {\n",
       "        vertical-align: top;\n",
       "    }\n",
       "\n",
       "    .dataframe thead th {\n",
       "        text-align: right;\n",
       "    }\n",
       "</style>\n",
       "<table border=\"1\" class=\"dataframe\">\n",
       "  <thead>\n",
       "    <tr style=\"text-align: right;\">\n",
       "      <th></th>\n",
       "      <th>MW</th>\n",
       "      <th>LogP</th>\n",
       "      <th>NumHDonors</th>\n",
       "      <th>NumHAcceptors</th>\n",
       "    </tr>\n",
       "  </thead>\n",
       "  <tbody>\n",
       "    <tr>\n",
       "      <th>0</th>\n",
       "      <td>281.271</td>\n",
       "      <td>1.89262</td>\n",
       "      <td>0.0</td>\n",
       "      <td>5.0</td>\n",
       "    </tr>\n",
       "    <tr>\n",
       "      <th>1</th>\n",
       "      <td>415.589</td>\n",
       "      <td>3.81320</td>\n",
       "      <td>0.0</td>\n",
       "      <td>2.0</td>\n",
       "    </tr>\n",
       "    <tr>\n",
       "      <th>2</th>\n",
       "      <td>421.190</td>\n",
       "      <td>2.66050</td>\n",
       "      <td>0.0</td>\n",
       "      <td>4.0</td>\n",
       "    </tr>\n",
       "    <tr>\n",
       "      <th>3</th>\n",
       "      <td>293.347</td>\n",
       "      <td>3.63080</td>\n",
       "      <td>0.0</td>\n",
       "      <td>3.0</td>\n",
       "    </tr>\n",
       "    <tr>\n",
       "      <th>4</th>\n",
       "      <td>338.344</td>\n",
       "      <td>3.53900</td>\n",
       "      <td>0.0</td>\n",
       "      <td>5.0</td>\n",
       "    </tr>\n",
       "  </tbody>\n",
       "</table>\n",
       "</div>"
      ],
      "text/plain": [
       "        MW     LogP  NumHDonors  NumHAcceptors\n",
       "0  281.271  1.89262         0.0            5.0\n",
       "1  415.589  3.81320         0.0            2.0\n",
       "2  421.190  2.66050         0.0            4.0\n",
       "3  293.347  3.63080         0.0            3.0\n",
       "4  338.344  3.53900         0.0            5.0"
      ]
     },
     "execution_count": 91,
     "metadata": {},
     "output_type": "execute_result"
    }
   ],
   "source": [
    "df_lipinski = lipinski(df.canonical_smiles)\n",
    "df_lipinski.head()"
   ]
  },
  {
   "cell_type": "code",
   "execution_count": 92,
   "id": "8cda3ea3-0064-4f46-b5f8-9c7d975787e4",
   "metadata": {},
   "outputs": [
    {
     "data": {
      "text/html": [
       "<div>\n",
       "<style scoped>\n",
       "    .dataframe tbody tr th:only-of-type {\n",
       "        vertical-align: middle;\n",
       "    }\n",
       "\n",
       "    .dataframe tbody tr th {\n",
       "        vertical-align: top;\n",
       "    }\n",
       "\n",
       "    .dataframe thead th {\n",
       "        text-align: right;\n",
       "    }\n",
       "</style>\n",
       "<table border=\"1\" class=\"dataframe\">\n",
       "  <thead>\n",
       "    <tr style=\"text-align: right;\">\n",
       "      <th></th>\n",
       "      <th>molecule_chembl_id</th>\n",
       "      <th>canonical_smiles</th>\n",
       "      <th>standard_value</th>\n",
       "      <th>bioactivity_class</th>\n",
       "      <th>MW</th>\n",
       "      <th>LogP</th>\n",
       "      <th>NumHDonors</th>\n",
       "      <th>NumHAcceptors</th>\n",
       "    </tr>\n",
       "  </thead>\n",
       "  <tbody>\n",
       "    <tr>\n",
       "      <th>0</th>\n",
       "      <td>CHEMBL187579</td>\n",
       "      <td>Cc1noc(C)c1CN1C(=O)C(=O)c2cc(C#N)ccc21</td>\n",
       "      <td>7200.0</td>\n",
       "      <td>intermediate</td>\n",
       "      <td>281.271</td>\n",
       "      <td>1.89262</td>\n",
       "      <td>0.0</td>\n",
       "      <td>5.0</td>\n",
       "    </tr>\n",
       "    <tr>\n",
       "      <th>1</th>\n",
       "      <td>CHEMBL188487</td>\n",
       "      <td>O=C1C(=O)N(Cc2ccc(F)cc2Cl)c2ccc(I)cc21</td>\n",
       "      <td>9400.0</td>\n",
       "      <td>intermediate</td>\n",
       "      <td>415.589</td>\n",
       "      <td>3.81320</td>\n",
       "      <td>0.0</td>\n",
       "      <td>2.0</td>\n",
       "    </tr>\n",
       "    <tr>\n",
       "      <th>2</th>\n",
       "      <td>CHEMBL185698</td>\n",
       "      <td>O=C1C(=O)N(CC2COc3ccccc3O2)c2ccc(I)cc21</td>\n",
       "      <td>13500.0</td>\n",
       "      <td>inactive</td>\n",
       "      <td>421.190</td>\n",
       "      <td>2.66050</td>\n",
       "      <td>0.0</td>\n",
       "      <td>4.0</td>\n",
       "    </tr>\n",
       "    <tr>\n",
       "      <th>3</th>\n",
       "      <td>CHEMBL426082</td>\n",
       "      <td>O=C1C(=O)N(Cc2cc3ccccc3s2)c2ccccc21</td>\n",
       "      <td>13110.0</td>\n",
       "      <td>inactive</td>\n",
       "      <td>293.347</td>\n",
       "      <td>3.63080</td>\n",
       "      <td>0.0</td>\n",
       "      <td>3.0</td>\n",
       "    </tr>\n",
       "    <tr>\n",
       "      <th>4</th>\n",
       "      <td>CHEMBL187717</td>\n",
       "      <td>O=C1C(=O)N(Cc2cc3ccccc3s2)c2c1cccc2[N+](=O)[O-]</td>\n",
       "      <td>2000.0</td>\n",
       "      <td>intermediate</td>\n",
       "      <td>338.344</td>\n",
       "      <td>3.53900</td>\n",
       "      <td>0.0</td>\n",
       "      <td>5.0</td>\n",
       "    </tr>\n",
       "  </tbody>\n",
       "</table>\n",
       "</div>"
      ],
      "text/plain": [
       "  molecule_chembl_id                                 canonical_smiles  \\\n",
       "0       CHEMBL187579           Cc1noc(C)c1CN1C(=O)C(=O)c2cc(C#N)ccc21   \n",
       "1       CHEMBL188487           O=C1C(=O)N(Cc2ccc(F)cc2Cl)c2ccc(I)cc21   \n",
       "2       CHEMBL185698          O=C1C(=O)N(CC2COc3ccccc3O2)c2ccc(I)cc21   \n",
       "3       CHEMBL426082              O=C1C(=O)N(Cc2cc3ccccc3s2)c2ccccc21   \n",
       "4       CHEMBL187717  O=C1C(=O)N(Cc2cc3ccccc3s2)c2c1cccc2[N+](=O)[O-]   \n",
       "\n",
       "   standard_value bioactivity_class       MW     LogP  NumHDonors  \\\n",
       "0          7200.0      intermediate  281.271  1.89262         0.0   \n",
       "1          9400.0      intermediate  415.589  3.81320         0.0   \n",
       "2         13500.0          inactive  421.190  2.66050         0.0   \n",
       "3         13110.0          inactive  293.347  3.63080         0.0   \n",
       "4          2000.0      intermediate  338.344  3.53900         0.0   \n",
       "\n",
       "   NumHAcceptors  \n",
       "0            5.0  \n",
       "1            2.0  \n",
       "2            4.0  \n",
       "3            3.0  \n",
       "4            5.0  "
      ]
     },
     "execution_count": 92,
     "metadata": {},
     "output_type": "execute_result"
    }
   ],
   "source": [
    "df_combined = pd.concat([df, df_lipinski], axis=1)\n",
    "df_combined.head()"
   ]
  },
  {
   "cell_type": "markdown",
   "id": "0e80b7f8-6947-4c9a-be30-c5fe5732f6ca",
   "metadata": {},
   "source": [
    "## Convert IC50 to pIC50\n",
    "To allow IC50 data to be more uniformly distributed, we will convert IC50 to the negative logarithmic scale which is essentially **-log10(IC50)**.\n",
    "\n",
    "This custom function pIC50() will accept a DataFrame as input and will:\n",
    "- Take the IC50 values from the standard_value column and convert it from nM to M by multiplying the value by 10^-9\n",
    "- Take the molar value and apply -log10\n",
    "- Delete the standard_value column and create a new pIC50 column "
   ]
  },
  {
   "cell_type": "code",
   "execution_count": 125,
   "id": "be2a901e-3019-4bae-a94f-f490b68e215a",
   "metadata": {},
   "outputs": [],
   "source": [
    "def pIC50(input):\n",
    "    pIC50 = []\n",
    "\n",
    "    for i in input['standard_value_norm']:\n",
    "        molar = i*(10**-9)\n",
    "        pIC50.append(-np.log10(molar))\n",
    "\n",
    "    input['pIC50'] = pIC50\n",
    "    x = input.drop('standard_value_norm', axis=1)\n",
    "        \n",
    "    return x"
   ]
  },
  {
   "cell_type": "code",
   "execution_count": 126,
   "id": "5ad388b0-d9bb-415b-8637-2cb8432544c6",
   "metadata": {},
   "outputs": [],
   "source": [
    "def norm_value(input):\n",
    "    norm = []\n",
    "\n",
    "    for i in input['standard_value']:\n",
    "        if i > 100000000:\n",
    "            i = 100000000\n",
    "        norm.append(i)\n",
    "\n",
    "    input['standard_value_norm'] = norm\n",
    "    x = input.drop('standard_value', axis=1)\n",
    "\n",
    "    return x"
   ]
  },
  {
   "cell_type": "code",
   "execution_count": 127,
   "id": "1f958feb-f5d6-4527-bcd0-2a4505ace9b5",
   "metadata": {},
   "outputs": [
    {
     "data": {
      "text/html": [
       "<div>\n",
       "<style scoped>\n",
       "    .dataframe tbody tr th:only-of-type {\n",
       "        vertical-align: middle;\n",
       "    }\n",
       "\n",
       "    .dataframe tbody tr th {\n",
       "        vertical-align: top;\n",
       "    }\n",
       "\n",
       "    .dataframe thead th {\n",
       "        text-align: right;\n",
       "    }\n",
       "</style>\n",
       "<table border=\"1\" class=\"dataframe\">\n",
       "  <thead>\n",
       "    <tr style=\"text-align: right;\">\n",
       "      <th></th>\n",
       "      <th>molecule_chembl_id</th>\n",
       "      <th>canonical_smiles</th>\n",
       "      <th>bioactivity_class</th>\n",
       "      <th>MW</th>\n",
       "      <th>LogP</th>\n",
       "      <th>NumHDonors</th>\n",
       "      <th>NumHAcceptors</th>\n",
       "      <th>standard_value_norm</th>\n",
       "    </tr>\n",
       "  </thead>\n",
       "  <tbody>\n",
       "    <tr>\n",
       "      <th>0</th>\n",
       "      <td>CHEMBL187579</td>\n",
       "      <td>Cc1noc(C)c1CN1C(=O)C(=O)c2cc(C#N)ccc21</td>\n",
       "      <td>intermediate</td>\n",
       "      <td>281.271</td>\n",
       "      <td>1.89262</td>\n",
       "      <td>0.0</td>\n",
       "      <td>5.0</td>\n",
       "      <td>7200.00</td>\n",
       "    </tr>\n",
       "    <tr>\n",
       "      <th>1</th>\n",
       "      <td>CHEMBL188487</td>\n",
       "      <td>O=C1C(=O)N(Cc2ccc(F)cc2Cl)c2ccc(I)cc21</td>\n",
       "      <td>intermediate</td>\n",
       "      <td>415.589</td>\n",
       "      <td>3.81320</td>\n",
       "      <td>0.0</td>\n",
       "      <td>2.0</td>\n",
       "      <td>9400.00</td>\n",
       "    </tr>\n",
       "    <tr>\n",
       "      <th>2</th>\n",
       "      <td>CHEMBL185698</td>\n",
       "      <td>O=C1C(=O)N(CC2COc3ccccc3O2)c2ccc(I)cc21</td>\n",
       "      <td>inactive</td>\n",
       "      <td>421.190</td>\n",
       "      <td>2.66050</td>\n",
       "      <td>0.0</td>\n",
       "      <td>4.0</td>\n",
       "      <td>13500.00</td>\n",
       "    </tr>\n",
       "    <tr>\n",
       "      <th>3</th>\n",
       "      <td>CHEMBL426082</td>\n",
       "      <td>O=C1C(=O)N(Cc2cc3ccccc3s2)c2ccccc21</td>\n",
       "      <td>inactive</td>\n",
       "      <td>293.347</td>\n",
       "      <td>3.63080</td>\n",
       "      <td>0.0</td>\n",
       "      <td>3.0</td>\n",
       "      <td>13110.00</td>\n",
       "    </tr>\n",
       "    <tr>\n",
       "      <th>4</th>\n",
       "      <td>CHEMBL187717</td>\n",
       "      <td>O=C1C(=O)N(Cc2cc3ccccc3s2)c2c1cccc2[N+](=O)[O-]</td>\n",
       "      <td>intermediate</td>\n",
       "      <td>338.344</td>\n",
       "      <td>3.53900</td>\n",
       "      <td>0.0</td>\n",
       "      <td>5.0</td>\n",
       "      <td>2000.00</td>\n",
       "    </tr>\n",
       "    <tr>\n",
       "      <th>...</th>\n",
       "      <td>...</td>\n",
       "      <td>...</td>\n",
       "      <td>...</td>\n",
       "      <td>...</td>\n",
       "      <td>...</td>\n",
       "      <td>...</td>\n",
       "      <td>...</td>\n",
       "      <td>...</td>\n",
       "    </tr>\n",
       "    <tr>\n",
       "      <th>240</th>\n",
       "      <td>CHEMBL4590273</td>\n",
       "      <td>Cc1cccc2nc(CSC(=S)NCc3cccnc3)cn12</td>\n",
       "      <td>active</td>\n",
       "      <td>328.466</td>\n",
       "      <td>3.34562</td>\n",
       "      <td>1.0</td>\n",
       "      <td>5.0</td>\n",
       "      <td>380.19</td>\n",
       "    </tr>\n",
       "    <tr>\n",
       "      <th>241</th>\n",
       "      <td>CHEMBL5436771</td>\n",
       "      <td>S=C([S-])NCc1cccnc1.[K+]</td>\n",
       "      <td>active</td>\n",
       "      <td>222.379</td>\n",
       "      <td>-1.99300</td>\n",
       "      <td>1.0</td>\n",
       "      <td>3.0</td>\n",
       "      <td>165.00</td>\n",
       "    </tr>\n",
       "    <tr>\n",
       "      <th>242</th>\n",
       "      <td>CHEMBL2365410</td>\n",
       "      <td>CC(C)C[C@H](NC(=O)OCc1ccccc1)C(=O)N[C@@H](CC1C...</td>\n",
       "      <td>active</td>\n",
       "      <td>485.559</td>\n",
       "      <td>0.54470</td>\n",
       "      <td>5.0</td>\n",
       "      <td>7.0</td>\n",
       "      <td>161.00</td>\n",
       "    </tr>\n",
       "    <tr>\n",
       "      <th>243</th>\n",
       "      <td>CHEMBL5436771</td>\n",
       "      <td>S=C([S-])NCc1cccnc1.[K+]</td>\n",
       "      <td>NaN</td>\n",
       "      <td>222.379</td>\n",
       "      <td>-1.99300</td>\n",
       "      <td>1.0</td>\n",
       "      <td>3.0</td>\n",
       "      <td>165.96</td>\n",
       "    </tr>\n",
       "    <tr>\n",
       "      <th>244</th>\n",
       "      <td>CHEMBL2365410</td>\n",
       "      <td>CC(C)C[C@H](NC(=O)OCc1ccccc1)C(=O)N[C@@H](CC1C...</td>\n",
       "      <td>NaN</td>\n",
       "      <td>485.559</td>\n",
       "      <td>0.54470</td>\n",
       "      <td>5.0</td>\n",
       "      <td>7.0</td>\n",
       "      <td>162.18</td>\n",
       "    </tr>\n",
       "  </tbody>\n",
       "</table>\n",
       "<p>245 rows × 8 columns</p>\n",
       "</div>"
      ],
      "text/plain": [
       "    molecule_chembl_id                                   canonical_smiles  \\\n",
       "0         CHEMBL187579             Cc1noc(C)c1CN1C(=O)C(=O)c2cc(C#N)ccc21   \n",
       "1         CHEMBL188487             O=C1C(=O)N(Cc2ccc(F)cc2Cl)c2ccc(I)cc21   \n",
       "2         CHEMBL185698            O=C1C(=O)N(CC2COc3ccccc3O2)c2ccc(I)cc21   \n",
       "3         CHEMBL426082                O=C1C(=O)N(Cc2cc3ccccc3s2)c2ccccc21   \n",
       "4         CHEMBL187717    O=C1C(=O)N(Cc2cc3ccccc3s2)c2c1cccc2[N+](=O)[O-]   \n",
       "..                 ...                                                ...   \n",
       "240      CHEMBL4590273                  Cc1cccc2nc(CSC(=S)NCc3cccnc3)cn12   \n",
       "241      CHEMBL5436771                           S=C([S-])NCc1cccnc1.[K+]   \n",
       "242      CHEMBL2365410  CC(C)C[C@H](NC(=O)OCc1ccccc1)C(=O)N[C@@H](CC1C...   \n",
       "243      CHEMBL5436771                           S=C([S-])NCc1cccnc1.[K+]   \n",
       "244      CHEMBL2365410  CC(C)C[C@H](NC(=O)OCc1ccccc1)C(=O)N[C@@H](CC1C...   \n",
       "\n",
       "    bioactivity_class       MW     LogP  NumHDonors  NumHAcceptors  \\\n",
       "0        intermediate  281.271  1.89262         0.0            5.0   \n",
       "1        intermediate  415.589  3.81320         0.0            2.0   \n",
       "2            inactive  421.190  2.66050         0.0            4.0   \n",
       "3            inactive  293.347  3.63080         0.0            3.0   \n",
       "4        intermediate  338.344  3.53900         0.0            5.0   \n",
       "..                ...      ...      ...         ...            ...   \n",
       "240            active  328.466  3.34562         1.0            5.0   \n",
       "241            active  222.379 -1.99300         1.0            3.0   \n",
       "242            active  485.559  0.54470         5.0            7.0   \n",
       "243               NaN  222.379 -1.99300         1.0            3.0   \n",
       "244               NaN  485.559  0.54470         5.0            7.0   \n",
       "\n",
       "     standard_value_norm  \n",
       "0                7200.00  \n",
       "1                9400.00  \n",
       "2               13500.00  \n",
       "3               13110.00  \n",
       "4                2000.00  \n",
       "..                   ...  \n",
       "240               380.19  \n",
       "241               165.00  \n",
       "242               161.00  \n",
       "243               165.96  \n",
       "244               162.18  \n",
       "\n",
       "[245 rows x 8 columns]"
      ]
     },
     "execution_count": 127,
     "metadata": {},
     "output_type": "execute_result"
    }
   ],
   "source": [
    "df_norm = norm_value(df_combined)\n",
    "df_norm"
   ]
  },
  {
   "cell_type": "code",
   "execution_count": 128,
   "id": "6fdb7b76-e273-4921-996f-b34f9bb8db4b",
   "metadata": {},
   "outputs": [
    {
     "data": {
      "text/html": [
       "<div>\n",
       "<style scoped>\n",
       "    .dataframe tbody tr th:only-of-type {\n",
       "        vertical-align: middle;\n",
       "    }\n",
       "\n",
       "    .dataframe tbody tr th {\n",
       "        vertical-align: top;\n",
       "    }\n",
       "\n",
       "    .dataframe thead th {\n",
       "        text-align: right;\n",
       "    }\n",
       "</style>\n",
       "<table border=\"1\" class=\"dataframe\">\n",
       "  <thead>\n",
       "    <tr style=\"text-align: right;\">\n",
       "      <th></th>\n",
       "      <th>molecule_chembl_id</th>\n",
       "      <th>canonical_smiles</th>\n",
       "      <th>bioactivity_class</th>\n",
       "      <th>MW</th>\n",
       "      <th>LogP</th>\n",
       "      <th>NumHDonors</th>\n",
       "      <th>NumHAcceptors</th>\n",
       "      <th>pIC50</th>\n",
       "    </tr>\n",
       "  </thead>\n",
       "  <tbody>\n",
       "    <tr>\n",
       "      <th>0</th>\n",
       "      <td>CHEMBL187579</td>\n",
       "      <td>Cc1noc(C)c1CN1C(=O)C(=O)c2cc(C#N)ccc21</td>\n",
       "      <td>intermediate</td>\n",
       "      <td>281.271</td>\n",
       "      <td>1.89262</td>\n",
       "      <td>0.0</td>\n",
       "      <td>5.0</td>\n",
       "      <td>5.142668</td>\n",
       "    </tr>\n",
       "    <tr>\n",
       "      <th>1</th>\n",
       "      <td>CHEMBL188487</td>\n",
       "      <td>O=C1C(=O)N(Cc2ccc(F)cc2Cl)c2ccc(I)cc21</td>\n",
       "      <td>intermediate</td>\n",
       "      <td>415.589</td>\n",
       "      <td>3.81320</td>\n",
       "      <td>0.0</td>\n",
       "      <td>2.0</td>\n",
       "      <td>5.026872</td>\n",
       "    </tr>\n",
       "    <tr>\n",
       "      <th>2</th>\n",
       "      <td>CHEMBL185698</td>\n",
       "      <td>O=C1C(=O)N(CC2COc3ccccc3O2)c2ccc(I)cc21</td>\n",
       "      <td>inactive</td>\n",
       "      <td>421.190</td>\n",
       "      <td>2.66050</td>\n",
       "      <td>0.0</td>\n",
       "      <td>4.0</td>\n",
       "      <td>4.869666</td>\n",
       "    </tr>\n",
       "    <tr>\n",
       "      <th>3</th>\n",
       "      <td>CHEMBL426082</td>\n",
       "      <td>O=C1C(=O)N(Cc2cc3ccccc3s2)c2ccccc21</td>\n",
       "      <td>inactive</td>\n",
       "      <td>293.347</td>\n",
       "      <td>3.63080</td>\n",
       "      <td>0.0</td>\n",
       "      <td>3.0</td>\n",
       "      <td>4.882397</td>\n",
       "    </tr>\n",
       "    <tr>\n",
       "      <th>4</th>\n",
       "      <td>CHEMBL187717</td>\n",
       "      <td>O=C1C(=O)N(Cc2cc3ccccc3s2)c2c1cccc2[N+](=O)[O-]</td>\n",
       "      <td>intermediate</td>\n",
       "      <td>338.344</td>\n",
       "      <td>3.53900</td>\n",
       "      <td>0.0</td>\n",
       "      <td>5.0</td>\n",
       "      <td>5.698970</td>\n",
       "    </tr>\n",
       "    <tr>\n",
       "      <th>...</th>\n",
       "      <td>...</td>\n",
       "      <td>...</td>\n",
       "      <td>...</td>\n",
       "      <td>...</td>\n",
       "      <td>...</td>\n",
       "      <td>...</td>\n",
       "      <td>...</td>\n",
       "      <td>...</td>\n",
       "    </tr>\n",
       "    <tr>\n",
       "      <th>240</th>\n",
       "      <td>CHEMBL4590273</td>\n",
       "      <td>Cc1cccc2nc(CSC(=S)NCc3cccnc3)cn12</td>\n",
       "      <td>active</td>\n",
       "      <td>328.466</td>\n",
       "      <td>3.34562</td>\n",
       "      <td>1.0</td>\n",
       "      <td>5.0</td>\n",
       "      <td>6.419999</td>\n",
       "    </tr>\n",
       "    <tr>\n",
       "      <th>241</th>\n",
       "      <td>CHEMBL5436771</td>\n",
       "      <td>S=C([S-])NCc1cccnc1.[K+]</td>\n",
       "      <td>active</td>\n",
       "      <td>222.379</td>\n",
       "      <td>-1.99300</td>\n",
       "      <td>1.0</td>\n",
       "      <td>3.0</td>\n",
       "      <td>6.782516</td>\n",
       "    </tr>\n",
       "    <tr>\n",
       "      <th>242</th>\n",
       "      <td>CHEMBL2365410</td>\n",
       "      <td>CC(C)C[C@H](NC(=O)OCc1ccccc1)C(=O)N[C@@H](CC1C...</td>\n",
       "      <td>active</td>\n",
       "      <td>485.559</td>\n",
       "      <td>0.54470</td>\n",
       "      <td>5.0</td>\n",
       "      <td>7.0</td>\n",
       "      <td>6.793174</td>\n",
       "    </tr>\n",
       "    <tr>\n",
       "      <th>243</th>\n",
       "      <td>CHEMBL5436771</td>\n",
       "      <td>S=C([S-])NCc1cccnc1.[K+]</td>\n",
       "      <td>NaN</td>\n",
       "      <td>222.379</td>\n",
       "      <td>-1.99300</td>\n",
       "      <td>1.0</td>\n",
       "      <td>3.0</td>\n",
       "      <td>6.779997</td>\n",
       "    </tr>\n",
       "    <tr>\n",
       "      <th>244</th>\n",
       "      <td>CHEMBL2365410</td>\n",
       "      <td>CC(C)C[C@H](NC(=O)OCc1ccccc1)C(=O)N[C@@H](CC1C...</td>\n",
       "      <td>NaN</td>\n",
       "      <td>485.559</td>\n",
       "      <td>0.54470</td>\n",
       "      <td>5.0</td>\n",
       "      <td>7.0</td>\n",
       "      <td>6.790003</td>\n",
       "    </tr>\n",
       "  </tbody>\n",
       "</table>\n",
       "<p>245 rows × 8 columns</p>\n",
       "</div>"
      ],
      "text/plain": [
       "    molecule_chembl_id                                   canonical_smiles  \\\n",
       "0         CHEMBL187579             Cc1noc(C)c1CN1C(=O)C(=O)c2cc(C#N)ccc21   \n",
       "1         CHEMBL188487             O=C1C(=O)N(Cc2ccc(F)cc2Cl)c2ccc(I)cc21   \n",
       "2         CHEMBL185698            O=C1C(=O)N(CC2COc3ccccc3O2)c2ccc(I)cc21   \n",
       "3         CHEMBL426082                O=C1C(=O)N(Cc2cc3ccccc3s2)c2ccccc21   \n",
       "4         CHEMBL187717    O=C1C(=O)N(Cc2cc3ccccc3s2)c2c1cccc2[N+](=O)[O-]   \n",
       "..                 ...                                                ...   \n",
       "240      CHEMBL4590273                  Cc1cccc2nc(CSC(=S)NCc3cccnc3)cn12   \n",
       "241      CHEMBL5436771                           S=C([S-])NCc1cccnc1.[K+]   \n",
       "242      CHEMBL2365410  CC(C)C[C@H](NC(=O)OCc1ccccc1)C(=O)N[C@@H](CC1C...   \n",
       "243      CHEMBL5436771                           S=C([S-])NCc1cccnc1.[K+]   \n",
       "244      CHEMBL2365410  CC(C)C[C@H](NC(=O)OCc1ccccc1)C(=O)N[C@@H](CC1C...   \n",
       "\n",
       "    bioactivity_class       MW     LogP  NumHDonors  NumHAcceptors     pIC50  \n",
       "0        intermediate  281.271  1.89262         0.0            5.0  5.142668  \n",
       "1        intermediate  415.589  3.81320         0.0            2.0  5.026872  \n",
       "2            inactive  421.190  2.66050         0.0            4.0  4.869666  \n",
       "3            inactive  293.347  3.63080         0.0            3.0  4.882397  \n",
       "4        intermediate  338.344  3.53900         0.0            5.0  5.698970  \n",
       "..                ...      ...      ...         ...            ...       ...  \n",
       "240            active  328.466  3.34562         1.0            5.0  6.419999  \n",
       "241            active  222.379 -1.99300         1.0            3.0  6.782516  \n",
       "242            active  485.559  0.54470         5.0            7.0  6.793174  \n",
       "243               NaN  222.379 -1.99300         1.0            3.0  6.779997  \n",
       "244               NaN  485.559  0.54470         5.0            7.0  6.790003  \n",
       "\n",
       "[245 rows x 8 columns]"
      ]
     },
     "execution_count": 128,
     "metadata": {},
     "output_type": "execute_result"
    }
   ],
   "source": [
    "df_final = pIC50(df_norm)\n",
    "df_final"
   ]
  },
  {
   "cell_type": "code",
   "execution_count": 129,
   "id": "19792c84-13f1-4a3b-b640-12aea8d2b461",
   "metadata": {},
   "outputs": [
    {
     "data": {
      "text/plain": [
       "count    245.000000\n",
       "mean       4.894585\n",
       "std        0.911338\n",
       "min        2.698970\n",
       "25%        4.327902\n",
       "50%        4.823909\n",
       "75%        5.301030\n",
       "max        7.301030\n",
       "Name: pIC50, dtype: float64"
      ]
     },
     "execution_count": 129,
     "metadata": {},
     "output_type": "execute_result"
    }
   ],
   "source": [
    "df_final.pIC50.describe()"
   ]
  },
  {
   "cell_type": "code",
   "execution_count": 130,
   "id": "f85f0730-2227-474e-be7b-544ecbf21fee",
   "metadata": {},
   "outputs": [
    {
     "data": {
      "text/plain": [
       "count    199.000000\n",
       "mean       4.798385\n",
       "std        0.961623\n",
       "min        2.698970\n",
       "25%        4.301030\n",
       "50%        4.698970\n",
       "75%        4.980928\n",
       "max        7.301030\n",
       "Name: pIC50, dtype: float64"
      ]
     },
     "execution_count": 130,
     "metadata": {},
     "output_type": "execute_result"
    }
   ],
   "source": [
    "df_2class = df_final[df_final.bioactivity_class != 'intermediate']\n",
    "df_2class\n",
    "\n",
    "df_2class.pIC50.describe()"
   ]
  },
  {
   "cell_type": "markdown",
   "id": "06adc98c-80f0-4571-baf8-600cce2ca46d",
   "metadata": {},
   "source": [
    "## Exploratory Data Analysis (Chemical space analysis) via Lipinski descriptors"
   ]
  },
  {
   "cell_type": "code",
   "execution_count": 131,
   "id": "fbfd73f8-d458-4295-97d1-0ade2fd27490",
   "metadata": {},
   "outputs": [],
   "source": [
    "import seaborn as sns\n",
    "sns.set(style='ticks')\n",
    "import matplotlib.pyplot as plt\n",
    "\n",
    "palette = ['#D20103', '#7DDA58']"
   ]
  },
  {
   "cell_type": "markdown",
   "id": "c558f5b8-a0f9-4c1f-a55c-a27b07880eab",
   "metadata": {},
   "source": [
    "### Frequency plot of the 2 bioactivity classes"
   ]
  },
  {
   "cell_type": "code",
   "execution_count": 132,
   "id": "2fda5d27-1b47-4a40-93e1-dac434f06ef1",
   "metadata": {},
   "outputs": [
    {
     "data": {
      "image/png": "[encoded data removed]",
      "text/plain": [
       "<Figure size 550x550 with 1 Axes>"
      ]
     },
     "metadata": {},
     "output_type": "display_data"
    }
   ],
   "source": [
    "plt.figure(figsize=(5.5, 5.5))\n",
    "\n",
    "sns.countplot(x='bioactivity_class', data=df_2class, edgecolor='black', hue='bioactivity_class', palette=palette)\n",
    "\n",
    "plt.xlabel('Bioactivity class', fontsize=14, fontweight='bold')\n",
    "plt.ylabel('Frequency', fontsize=14, fontweight='bold')\n",
    "\n",
    "plt.savefig('plot_bioactivity_class.pdf')"
   ]
  },
  {
   "cell_type": "markdown",
   "id": "92230b65-6a7c-489e-9fa8-a420d5856b05",
   "metadata": {},
   "source": [
    "### Scatter plot of MW versus LogP\n",
    "It can be seen that the 2 bioactivity classes are spanning similar chemical spaces as evident by the scatter plot of MW vs LogP"
   ]
  },
  {
   "cell_type": "code",
   "execution_count": 133,
   "id": "6a801b7f-e0d2-4de9-9e0a-c50ba96a65c4",
   "metadata": {},
   "outputs": [
    {
     "data": {
      "image/png": "[encoded data removed]",
      "text/plain": [
       "<Figure size 550x550 with 1 Axes>"
      ]
     },
     "metadata": {},
     "output_type": "display_data"
    }
   ],
   "source": [
    "plt.figure(figsize=(5.5, 5.5))\n",
    "\n",
    "sns.scatterplot(x='MW', y='LogP', data=df_2class, hue='bioactivity_class', size='pIC50', edgecolor='black', alpha=0.7)\n",
    "\n",
    "plt.xlabel('MW', fontsize=14, fontweight='bold')\n",
    "plt.ylabel('LogP', fontsize=14, fontweight='bold')\n",
    "plt.legend(bbox_to_anchor=(1.05, 1), loc=2, borderaxespad=0)\n",
    "plt.savefig('plot_MW_vs_logP.pdf')"
   ]
  },
  {
   "cell_type": "markdown",
   "id": "d21bdf51-254a-4b06-811d-23698ec4f235",
   "metadata": {},
   "source": [
    "### pIC50 value"
   ]
  },
  {
   "cell_type": "code",
   "execution_count": 134,
   "id": "4c381d44-a43f-4274-bc7e-56f8bfbf58a0",
   "metadata": {},
   "outputs": [
    {
     "data": {
      "image/png": "[encoded data removed]",
      "text/plain": [
       "<Figure size 550x550 with 1 Axes>"
      ]
     },
     "metadata": {},
     "output_type": "display_data"
    }
   ],
   "source": [
    "plt.figure(figsize=(5.5, 5.5))\n",
    "\n",
    "sns.boxplot(x='bioactivity_class', y='pIC50', data=df_2class, hue='bioactivity_class', palette=palette)\n",
    "\n",
    "plt.xlabel('Bioactivity class', fontsize=14, fontweight='bold')\n",
    "plt.ylabel('pIC50 value', fontsize=14, fontweight='bold')\n",
    "\n",
    "plt.savefig('plot_ic50.pdf')"
   ]
  },
  {
   "cell_type": "markdown",
   "id": "33bf6121-d791-43d4-af11-515bddbdca11",
   "metadata": {},
   "source": [
    "### Statistical analysis | Mann-Whitney U Test\n",
    "Test the statistival significance of the difference between the 2 bioactivity classes"
   ]
  },
  {
   "cell_type": "code",
   "execution_count": 135,
   "id": "89176b52-8ab0-47bb-b1d6-838b84b655c8",
   "metadata": {},
   "outputs": [],
   "source": [
    "def mannwhitney(descriptor, verbose=False):\n",
    "    from numpy.random import seed\n",
    "    from numpy.random import randn\n",
    "    from scipy.stats import mannwhitneyu\n",
    "\n",
    "    # seed the random number generator\n",
    "    seed(1)\n",
    "\n",
    "    # actives and inactives\n",
    "    selection = [descriptor, 'bioactivity_class']\n",
    "    df = df_2class[selection]\n",
    "    active = df[df.bioactivity_class == 'active']\n",
    "    active = active[descriptor]\n",
    "\n",
    "    selection = [descriptor, 'bioactivity_class']\n",
    "    df = df_2class[selection]\n",
    "    inactive = df[df.bioactivity_class == 'inactive']\n",
    "    inactive = inactive[descriptor]\n",
    "\n",
    "    # compare samples\n",
    "    stat, p = mannwhitneyu(active, inactive)\n",
    "\n",
    "    # interpret\n",
    "    alpha = 0.05\n",
    "    if p > alpha:\n",
    "        interpretation = 'Same distribution (fail to reject H0)'\n",
    "    else:\n",
    "        interpretation = 'Different distribution (reject H0)'\n",
    "    \n",
    "    results = pd.DataFrame({'Descriptor':descriptor,\n",
    "                          'Statistics':stat,\n",
    "                          'p':p,\n",
    "                          'alpha':alpha,\n",
    "                          'Interpretation':interpretation}, index=[0])\n",
    "    filename = 'mannwhitneyu_' + descriptor + '.csv'\n",
    "    results.to_csv(filename)\n",
    "    \n",
    "    return results\n",
    "    "
   ]
  },
  {
   "cell_type": "markdown",
   "id": "262f3790-e1e3-42f5-9269-ca44e5e85a05",
   "metadata": {},
   "source": [
    "### MW"
   ]
  },
  {
   "cell_type": "code",
   "execution_count": 139,
   "id": "139d68c4-605c-4d2c-8080-a00ffba551e3",
   "metadata": {},
   "outputs": [
    {
     "data": {
      "text/html": [
       "<div>\n",
       "<style scoped>\n",
       "    .dataframe tbody tr th:only-of-type {\n",
       "        vertical-align: middle;\n",
       "    }\n",
       "\n",
       "    .dataframe tbody tr th {\n",
       "        vertical-align: top;\n",
       "    }\n",
       "\n",
       "    .dataframe thead th {\n",
       "        text-align: right;\n",
       "    }\n",
       "</style>\n",
       "<table border=\"1\" class=\"dataframe\">\n",
       "  <thead>\n",
       "    <tr style=\"text-align: right;\">\n",
       "      <th></th>\n",
       "      <th>Descriptor</th>\n",
       "      <th>Statistics</th>\n",
       "      <th>p</th>\n",
       "      <th>alpha</th>\n",
       "      <th>Interpretation</th>\n",
       "    </tr>\n",
       "  </thead>\n",
       "  <tbody>\n",
       "    <tr>\n",
       "      <th>0</th>\n",
       "      <td>pIC50</td>\n",
       "      <td>5332.5</td>\n",
       "      <td>2.425019e-17</td>\n",
       "      <td>0.05</td>\n",
       "      <td>Different distribution (reject H0)</td>\n",
       "    </tr>\n",
       "  </tbody>\n",
       "</table>\n",
       "</div>"
      ],
      "text/plain": [
       "  Descriptor  Statistics             p  alpha  \\\n",
       "0      pIC50      5332.5  2.425019e-17   0.05   \n",
       "\n",
       "                       Interpretation  \n",
       "0  Different distribution (reject H0)  "
      ]
     },
     "execution_count": 139,
     "metadata": {},
     "output_type": "execute_result"
    }
   ],
   "source": [
    "mannwhitney('pIC50')"
   ]
  },
  {
   "cell_type": "code",
   "execution_count": 145,
   "id": "7f79b6e0-b483-43c2-b0a3-30bef9b1d036",
   "metadata": {},
   "outputs": [
    {
     "data": {
      "image/png": "[encoded data removed]",
      "text/plain": [
       "<Figure size 550x550 with 1 Axes>"
      ]
     },
     "metadata": {},
     "output_type": "display_data"
    }
   ],
   "source": [
    "plt.figure(figsize=(5.5, 5.5))\n",
    "\n",
    "sns.boxplot(x = 'bioactivity_class', y = 'MW', data = df_2class, hue='bioactivity_class', palette=palette)\n",
    "\n",
    "plt.xlabel('Bioactivity class', fontsize=14, fontweight='bold')\n",
    "plt.ylabel('MW', fontsize=14, fontweight='bold')\n",
    "\n",
    "plt.savefig('plot_MW.pdf')"
   ]
  },
  {
   "cell_type": "markdown",
   "id": "02ace39a-eb03-4a06-9cd1-fec8d1d4585f",
   "metadata": {},
   "source": [
    "### LogP"
   ]
  },
  {
   "cell_type": "code",
   "execution_count": 142,
   "id": "569b584c-e190-40d4-8734-d7e5a811c045",
   "metadata": {},
   "outputs": [
    {
     "data": {
      "text/html": [
       "<div>\n",
       "<style scoped>\n",
       "    .dataframe tbody tr th:only-of-type {\n",
       "        vertical-align: middle;\n",
       "    }\n",
       "\n",
       "    .dataframe tbody tr th {\n",
       "        vertical-align: top;\n",
       "    }\n",
       "\n",
       "    .dataframe thead th {\n",
       "        text-align: right;\n",
       "    }\n",
       "</style>\n",
       "<table border=\"1\" class=\"dataframe\">\n",
       "  <thead>\n",
       "    <tr style=\"text-align: right;\">\n",
       "      <th></th>\n",
       "      <th>Descriptor</th>\n",
       "      <th>Statistics</th>\n",
       "      <th>p</th>\n",
       "      <th>alpha</th>\n",
       "      <th>Interpretation</th>\n",
       "    </tr>\n",
       "  </thead>\n",
       "  <tbody>\n",
       "    <tr>\n",
       "      <th>0</th>\n",
       "      <td>LogP</td>\n",
       "      <td>2426.0</td>\n",
       "      <td>0.254586</td>\n",
       "      <td>0.05</td>\n",
       "      <td>Same distribution (fail to reject H0)</td>\n",
       "    </tr>\n",
       "  </tbody>\n",
       "</table>\n",
       "</div>"
      ],
      "text/plain": [
       "  Descriptor  Statistics         p  alpha  \\\n",
       "0       LogP      2426.0  0.254586   0.05   \n",
       "\n",
       "                          Interpretation  \n",
       "0  Same distribution (fail to reject H0)  "
      ]
     },
     "execution_count": 142,
     "metadata": {},
     "output_type": "execute_result"
    }
   ],
   "source": [
    "mannwhitney('LogP')"
   ]
  },
  {
   "cell_type": "code",
   "execution_count": 146,
   "id": "521cfdaf-2164-4003-9ef7-57afad82c05c",
   "metadata": {},
   "outputs": [
    {
     "data": {
      "image/png": "[encoded data removed]",
      "text/plain": [
       "<Figure size 550x550 with 1 Axes>"
      ]
     },
     "metadata": {},
     "output_type": "display_data"
    }
   ],
   "source": [
    "plt.figure(figsize=(5.5, 5.5))\n",
    "\n",
    "sns.boxplot(x = 'bioactivity_class', y = 'LogP', data = df_2class, hue='bioactivity_class', palette=palette)\n",
    "\n",
    "plt.xlabel('Bioactivity class', fontsize=14, fontweight='bold')\n",
    "plt.ylabel('LogP', fontsize=14, fontweight='bold')\n",
    "\n",
    "plt.savefig('plot_LogP.pdf')"
   ]
  },
  {
   "cell_type": "markdown",
   "id": "d17d9440-31a4-448d-b1ef-e7a2f2c7a501",
   "metadata": {},
   "source": [
    "### NumHDonors"
   ]
  },
  {
   "cell_type": "code",
   "execution_count": 143,
   "id": "afb664b6-4ee8-48a5-a71b-549541fafd6c",
   "metadata": {},
   "outputs": [
    {
     "data": {
      "text/html": [
       "<div>\n",
       "<style scoped>\n",
       "    .dataframe tbody tr th:only-of-type {\n",
       "        vertical-align: middle;\n",
       "    }\n",
       "\n",
       "    .dataframe tbody tr th {\n",
       "        vertical-align: top;\n",
       "    }\n",
       "\n",
       "    .dataframe thead th {\n",
       "        text-align: right;\n",
       "    }\n",
       "</style>\n",
       "<table border=\"1\" class=\"dataframe\">\n",
       "  <thead>\n",
       "    <tr style=\"text-align: right;\">\n",
       "      <th></th>\n",
       "      <th>Descriptor</th>\n",
       "      <th>Statistics</th>\n",
       "      <th>p</th>\n",
       "      <th>alpha</th>\n",
       "      <th>Interpretation</th>\n",
       "    </tr>\n",
       "  </thead>\n",
       "  <tbody>\n",
       "    <tr>\n",
       "      <th>0</th>\n",
       "      <td>NumHDonors</td>\n",
       "      <td>1840.5</td>\n",
       "      <td>0.001321</td>\n",
       "      <td>0.05</td>\n",
       "      <td>Different distribution (reject H0)</td>\n",
       "    </tr>\n",
       "  </tbody>\n",
       "</table>\n",
       "</div>"
      ],
      "text/plain": [
       "   Descriptor  Statistics         p  alpha                      Interpretation\n",
       "0  NumHDonors      1840.5  0.001321   0.05  Different distribution (reject H0)"
      ]
     },
     "execution_count": 143,
     "metadata": {},
     "output_type": "execute_result"
    }
   ],
   "source": [
    "mannwhitney('NumHDonors')"
   ]
  },
  {
   "cell_type": "code",
   "execution_count": 149,
   "id": "86624521-0117-434a-9610-a532b05a2ba6",
   "metadata": {},
   "outputs": [
    {
     "data": {
      "image/png": "[encoded data removed]",
      "text/plain": [
       "<Figure size 550x550 with 1 Axes>"
      ]
     },
     "metadata": {},
     "output_type": "display_data"
    }
   ],
   "source": [
    "plt.figure(figsize=(5.5, 5.5))\n",
    "\n",
    "sns.boxplot(x = 'bioactivity_class', y = 'NumHDonors', data = df_2class, hue='bioactivity_class', palette=palette)\n",
    "\n",
    "plt.xlabel('Bioactivity class', fontsize=14, fontweight='bold')\n",
    "plt.ylabel('NumHDonors', fontsize=14, fontweight='bold')\n",
    "\n",
    "plt.savefig('plot_NumHDonors.pdf')"
   ]
  },
  {
   "cell_type": "markdown",
   "id": "8ed36416-caf5-444e-af03-96c9ce39a6b5",
   "metadata": {},
   "source": [
    "### NumHAcceptors"
   ]
  },
  {
   "cell_type": "code",
   "execution_count": 150,
   "id": "bd56a406-ccdd-41b0-b2da-2f128ddc96f4",
   "metadata": {},
   "outputs": [
    {
     "data": {
      "text/html": [
       "<div>\n",
       "<style scoped>\n",
       "    .dataframe tbody tr th:only-of-type {\n",
       "        vertical-align: middle;\n",
       "    }\n",
       "\n",
       "    .dataframe tbody tr th {\n",
       "        vertical-align: top;\n",
       "    }\n",
       "\n",
       "    .dataframe thead th {\n",
       "        text-align: right;\n",
       "    }\n",
       "</style>\n",
       "<table border=\"1\" class=\"dataframe\">\n",
       "  <thead>\n",
       "    <tr style=\"text-align: right;\">\n",
       "      <th></th>\n",
       "      <th>Descriptor</th>\n",
       "      <th>Statistics</th>\n",
       "      <th>p</th>\n",
       "      <th>alpha</th>\n",
       "      <th>Interpretation</th>\n",
       "    </tr>\n",
       "  </thead>\n",
       "  <tbody>\n",
       "    <tr>\n",
       "      <th>0</th>\n",
       "      <td>NumHAcceptors</td>\n",
       "      <td>2017.5</td>\n",
       "      <td>0.011724</td>\n",
       "      <td>0.05</td>\n",
       "      <td>Different distribution (reject H0)</td>\n",
       "    </tr>\n",
       "  </tbody>\n",
       "</table>\n",
       "</div>"
      ],
      "text/plain": [
       "      Descriptor  Statistics         p  alpha  \\\n",
       "0  NumHAcceptors      2017.5  0.011724   0.05   \n",
       "\n",
       "                       Interpretation  \n",
       "0  Different distribution (reject H0)  "
      ]
     },
     "execution_count": 150,
     "metadata": {},
     "output_type": "execute_result"
    }
   ],
   "source": [
    "mannwhitney('NumHAcceptors')"
   ]
  },
  {
   "cell_type": "code",
   "execution_count": 151,
   "id": "123fe256-c9b9-40db-bafb-363694cddf3e",
   "metadata": {},
   "outputs": [
    {
     "data": {
      "image/png": "[encoded data removed]",
      "text/plain": [
       "<Figure size 550x550 with 1 Axes>"
      ]
     },
     "metadata": {},
     "output_type": "display_data"
    }
   ],
   "source": [
    "plt.figure(figsize=(5.5, 5.5))\n",
    "\n",
    "sns.boxplot(x = 'bioactivity_class', y = 'NumHAcceptors', data = df_2class, hue='bioactivity_class', palette=palette)\n",
    "\n",
    "plt.xlabel('Bioactivity class', fontsize=14, fontweight='bold')\n",
    "plt.ylabel('NumHAcceptors', fontsize=14, fontweight='bold')\n",
    "\n",
    "plt.savefig('plot_NumHAcceptors.pdf')"
   ]
  },
  {
   "cell_type": "markdown",
   "id": "32629027-1319-4321-a514-10a855ff283f",
   "metadata": {},
   "source": [
    "## Interpretations of Statistical Results\n",
    "\n",
    "### Box Plots\n",
    "#### pIC50 values\n",
    "Taking a look at pIC50 values, the **actives** and **inactives** displayed statiscally significant differnce, which is to be expected since threshold values (IC50 < 1000 nM = Actives, while IC50 > 10000 nM = Inactives, corresponding to pIC50 > 6 = Actives and pIC50 < 5 = Inactives) were used to define actives and inactives\n",
    "\n",
    "#### Lipinski's descriptors\n",
    "Of the 4 Lipinski's descriptors (MW, LogP, NumHDonors and NumHAcceptors), only LogP exhibited **no difference** between **actives** and **inactives** while the other 3 descriptors (MW, NumHDonors and NumHAcceptors) show **statistically significant difference** between **actives** and **inactives**"
   ]
  },
  {
   "cell_type": "markdown",
   "id": "3f67ac82-e2c3-4985-a7f8-d03487b406b0",
   "metadata": {},
   "source": [
    "## Zip Files"
   ]
  },
  {
   "cell_type": "code",
   "execution_count": 153,
   "id": "466e31d5-bc6d-4c16-a0bd-1080abd98f92",
   "metadata": {},
   "outputs": [
    {
     "name": "stdout",
     "output_type": "stream",
     "text": [
      "  adding: bioactivity_data.csv (deflated 91%)\n",
      "  adding: bioactivity_preprocecssed_data.csv (deflated 82%)\n",
      "  adding: mannwhitneyu_LogP.csv (deflated 7%)\n",
      "  adding: mannwhitneyu_NumHAcceptors.csv (deflated 12%)\n",
      "  adding: mannwhitneyu_NumHDonors.csv (deflated 10%)\n",
      "  adding: mannwhitneyu_pIC50.csv (deflated 10%)\n",
      "  adding: plot_bioactivity_class.pdf (deflated 36%)\n",
      "  adding: plot_ic50.pdf (deflated 37%)\n",
      "  adding: plot_LogP.pdf (deflated 38%)\n",
      "  adding: plot_MW.pdf (deflated 37%)\n",
      "  adding: plot_MW_vs_logP.pdf (deflated 11%)\n",
      "  adding: plot_NumHAcceptors.pdf (deflated 35%)\n",
      "  adding: plot_NumHDonors.pdf (deflated 37%)\n"
     ]
    }
   ],
   "source": [
    "! zip -r results.zip . -i *.csv *.pdf"
   ]
  },
  {
   "cell_type": "code",
   "execution_count": null,
   "id": "00a118dd-d484-44e8-88da-dd3f551dc20a",
   "metadata": {},
   "outputs": [],
   "source": []
  },
  {
   "cell_type": "code",
   "execution_count": null,
   "id": "982a3336-992d-41dd-9d35-3bf44ddda289",
   "metadata": {},
   "outputs": [],
   "source": []
  },
  {
   "cell_type": "code",
   "execution_count": null,
   "id": "dd1b3eb7-2f4a-4771-a60e-4c6828705eff",
   "metadata": {},
   "outputs": [],
   "source": []
  },
  {
   "cell_type": "code",
   "execution_count": null,
   "id": "6ce3deac-ff8f-404f-b52c-5e69d7e4900d",
   "metadata": {},
   "outputs": [],
   "source": []
  },
  {
   "cell_type": "code",
   "execution_count": null,
   "id": "833819d8-66b7-43ab-9cd6-715eab8360fd",
   "metadata": {},
   "outputs": [],
   "source": []
  },
  {
   "cell_type": "code",
   "execution_count": null,
   "id": "368ed708-0f57-4c67-8425-eaf98a8c2189",
   "metadata": {},
   "outputs": [],
   "source": []
  },
  {
   "cell_type": "code",
   "execution_count": null,
   "id": "a08d3b62-5ae4-40f9-907e-119e2e35ed5f",
   "metadata": {},
   "outputs": [],
   "source": []
  },
  {
   "cell_type": "code",
   "execution_count": null,
   "id": "c692e512-dde7-4b94-ab1e-fce338d5a71d",
   "metadata": {},
   "outputs": [],
   "source": []
  },
  {
   "cell_type": "code",
   "execution_count": null,
   "id": "8cb6d84b-b004-4a61-9198-0d7cc6607298",
   "metadata": {},
   "outputs": [],
   "source": []
  },
  {
   "cell_type": "code",
   "execution_count": null,
   "id": "7b7bb171-ba7a-42c9-a95d-d3b4af8984a1",
   "metadata": {},
   "outputs": [],
   "source": []
  },
  {
   "cell_type": "code",
   "execution_count": null,
   "id": "d71e2c66-26e2-4374-b7fe-4e59d0f6e9f8",
   "metadata": {},
   "outputs": [],
   "source": []
  },
  {
   "cell_type": "code",
   "execution_count": null,
   "id": "6407922c-ae1f-4baa-8c9f-cd5d0348021f",
   "metadata": {},
   "outputs": [],
   "source": []
  },
  {
   "cell_type": "code",
   "execution_count": null,
   "id": "feff368b-c35c-4f46-a8ee-a948f86f1a0f",
   "metadata": {},
   "outputs": [],
   "source": []
  },
  {
   "cell_type": "code",
   "execution_count": null,
   "id": "0df05f20-c8dc-432d-94b6-67a39fbb13f6",
   "metadata": {},
   "outputs": [],
   "source": []
  },
  {
   "cell_type": "code",
   "execution_count": null,
   "id": "8e00f92a-b973-4747-ab2d-4ce0f2cbc6ac",
   "metadata": {},
   "outputs": [],
   "source": []
  },
  {
   "cell_type": "code",
   "execution_count": null,
   "id": "0a21932b-64c6-4484-9c65-c69206a634e2",
   "metadata": {},
   "outputs": [],
   "source": []
  },
  {
   "cell_type": "code",
   "execution_count": null,
   "id": "87125432-983a-4ff5-a657-8b605a15d42c",
   "metadata": {},
   "outputs": [],
   "source": []
  },
  {
   "cell_type": "code",
   "execution_count": null,
   "id": "3827e852-12a2-43a2-8cba-c6fa2841dcc8",
   "metadata": {},
   "outputs": [],
   "source": []
  },
  {
   "cell_type": "code",
   "execution_count": null,
   "id": "3a5645ae-945a-4af3-9e2d-ca1042bc7d7f",
   "metadata": {},
   "outputs": [],
   "source": []
  },
  {
   "cell_type": "code",
   "execution_count": null,
   "id": "ec75dac6-db32-42b9-8005-4cb8a9f90f74",
   "metadata": {},
   "outputs": [],
   "source": []
  },
  {
   "cell_type": "code",
   "execution_count": null,
   "id": "4005cfa6-f0ff-465c-b99d-d5f14967936e",
   "metadata": {},
   "outputs": [],
   "source": []
  },
  {
   "cell_type": "code",
   "execution_count": null,
   "id": "efd175f6-8eb0-4bd8-9774-3e2dddd1dc1a",
   "metadata": {},
   "outputs": [],
   "source": []
  },
  {
   "cell_type": "code",
   "execution_count": null,
   "id": "8842fef8-453f-4d7d-aa57-d692594206f5",
   "metadata": {},
   "outputs": [],
   "source": []
  },
  {
   "cell_type": "code",
   "execution_count": null,
   "id": "af9a935e-ff4d-4fa9-8b31-465c8bbecb11",
   "metadata": {},
   "outputs": [],
   "source": []
  },
  {
   "cell_type": "code",
   "execution_count": null,
   "id": "c14da042-1f3c-4638-b976-eb79573b73db",
   "metadata": {},
   "outputs": [],
   "source": []
  },
  {
   "cell_type": "code",
   "execution_count": null,
   "id": "054d920c-0b55-49ff-8182-203cfc3f3a45",
   "metadata": {},
   "outputs": [],
   "source": []
  },
  {
   "cell_type": "code",
   "execution_count": null,
   "id": "036f3a50-f4d1-4c46-96c5-d89c9d0cbd48",
   "metadata": {},
   "outputs": [],
   "source": []
  },
  {
   "cell_type": "code",
   "execution_count": null,
   "id": "16c5ad53-158c-448e-a828-1a1e14d0e613",
   "metadata": {},
   "outputs": [],
   "source": []
  },
  {
   "cell_type": "code",
   "execution_count": null,
   "id": "dc00be42-7186-4f21-a971-12bb4b0a71d6",
   "metadata": {},
   "outputs": [],
   "source": []
  },
  {
   "cell_type": "code",
   "execution_count": null,
   "id": "ad5a7706-9a93-4760-901d-6cc193e2ecf8",
   "metadata": {},
   "outputs": [],
   "source": []
  },
  {
   "cell_type": "code",
   "execution_count": null,
   "id": "1dc2b70b-b456-4bc0-8d99-4747b78a8fe0",
   "metadata": {},
   "outputs": [],
   "source": []
  },
  {
   "cell_type": "code",
   "execution_count": null,
   "id": "0f9d40bf-cdc3-4f11-b3f1-8ebfedc1a486",
   "metadata": {},
   "outputs": [],
   "source": []
  },
  {
   "cell_type": "code",
   "execution_count": null,
   "id": "1409877e-6493-4ab3-bd16-663745590060",
   "metadata": {},
   "outputs": [],
   "source": []
  },
  {
   "cell_type": "code",
   "execution_count": null,
   "id": "228d46e2-fa31-4841-843e-82d15b7a8ce4",
   "metadata": {},
   "outputs": [],
   "source": []
  },
  {
   "cell_type": "code",
   "execution_count": null,
   "id": "57be52d7-a2c8-4759-b787-1d3883011374",
   "metadata": {},
   "outputs": [],
   "source": []
  },
  {
   "cell_type": "code",
   "execution_count": null,
   "id": "0f697646-fe5d-4a55-a141-aefa9d181232",
   "metadata": {},
   "outputs": [],
   "source": []
  },
  {
   "cell_type": "code",
   "execution_count": null,
   "id": "7a40301d-98c6-48ec-86c0-1f819603cb0f",
   "metadata": {},
   "outputs": [],
   "source": []
  },
  {
   "cell_type": "code",
   "execution_count": null,
   "id": "2f5345ef-4434-412c-875c-80d025860b95",
   "metadata": {},
   "outputs": [],
   "source": []
  },
  {
   "cell_type": "code",
   "execution_count": null,
   "id": "47faa78d-92a2-4eec-ac6e-90b35e338bc9",
   "metadata": {},
   "outputs": [],
   "source": []
  },
  {
   "cell_type": "code",
   "execution_count": null,
   "id": "e2d506ee-4f19-4e61-b6c0-7fe9ddd687d6",
   "metadata": {},
   "outputs": [],
   "source": []
  },
  {
   "cell_type": "code",
   "execution_count": null,
   "id": "23692c44-1481-4a5f-afcd-2592fcdb053a",
   "metadata": {},
   "outputs": [],
   "source": []
  },
  {
   "cell_type": "code",
   "execution_count": null,
   "id": "e3f44513-ab83-49a1-8211-ab7a06b541ca",
   "metadata": {},
   "outputs": [],
   "source": []
  },
  {
   "cell_type": "code",
   "execution_count": null,
   "id": "aa40a9fd-a9ca-48f7-848e-4a1ab7e8272c",
   "metadata": {},
   "outputs": [],
   "source": []
  },
  {
   "cell_type": "code",
   "execution_count": null,
   "id": "3646c6f7-2fee-411f-8eb8-7b8660e2e8ca",
   "metadata": {},
   "outputs": [],
   "source": []
  },
  {
   "cell_type": "code",
   "execution_count": null,
   "id": "3e19308f-5a52-47c7-bdb8-bd6ae9fbc6fc",
   "metadata": {},
   "outputs": [],
   "source": []
  },
  {
   "cell_type": "code",
   "execution_count": null,
   "id": "7ebe921c-51ce-4e63-bda4-b974e8578c6f",
   "metadata": {},
   "outputs": [],
   "source": []
  },
  {
   "cell_type": "code",
   "execution_count": null,
   "id": "8250d816-bc53-4e18-bb80-418cce24f7b0",
   "metadata": {},
   "outputs": [],
   "source": []
  }
 ],
 "metadata": {
  "kernelspec": {
   "display_name": "Python 3 (ipykernel)",
   "language": "python",
   "name": "python3"
  },
  "language_info": {
   "codemirror_mode": {
    "name": "ipython",
    "version": 3
   },
   "file_extension": ".py",
   "mimetype": "text/x-python",
   "name": "python",
   "nbconvert_exporter": "python",
   "pygments_lexer": "ipython3",
   "version": "3.12.8"
  }
 },
 "nbformat": 4,
 "nbformat_minor": 5
}
